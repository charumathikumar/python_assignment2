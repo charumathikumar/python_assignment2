{
  "nbformat": 4,
  "nbformat_minor": 0,
  "metadata": {
    "colab": {
      "name": "python_assignment2.ipynb",
      "provenance": [],
      "collapsed_sections": [],
      "authorship_tag": "ABX9TyMI9FmA/rLK079bzR5CSfUz",
      "include_colab_link": true
    },
    "kernelspec": {
      "name": "python3",
      "display_name": "Python 3"
    },
    "language_info": {
      "name": "python"
    }
  },
  "cells": [
    {
      "cell_type": "markdown",
      "metadata": {
        "id": "view-in-github",
        "colab_type": "text"
      },
      "source": [
        "<a href=\"https://colab.research.google.com/github/charumathikumar/python_assignment2/blob/main/python_assignment2.ipynb\" target=\"_parent\"><img src=\"https://colab.research.google.com/assets/colab-badge.svg\" alt=\"Open In Colab\"/></a>"
      ]
    },
    {
      "cell_type": "code",
      "metadata": {
        "id": "h3eTHS8LPWc-",
        "colab": {
          "base_uri": "https://localhost:8080/"
        },
        "outputId": "fec203ee-98c6-4853-b5f1-69491126f22f"
      },
      "source": [
        "a= input(\"enter string :\")\n",
        "b = {x : a.count(x) for x in set(a)} \n",
        "print (\"Occurrence of all characters in \"+a+\":\"+ str(b))"
      ],
      "execution_count": 4,
      "outputs": [
        {
          "output_type": "stream",
          "text": [
            "enter string :assignment\n",
            "Occurrence of all characters in assignment:{'a': 1, 'm': 1, 'n': 2, 's': 2, 't': 1, 'g': 1, 'i': 1, 'e': 1}\n"
          ],
          "name": "stdout"
        }
      ]
    }
  ]
}